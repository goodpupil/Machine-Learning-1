{
 "cells": [
  {
   "cell_type": "markdown",
   "metadata": {},
   "source": [
    "# Training a ConvNet PyTorch\n",
    "\n",
    "In this notebook, you'll learn how to use the powerful PyTorch framework to specify a conv net architecture and train it on the human action recognition dataset. \n"
   ]
  },
  {
   "cell_type": "code",
   "execution_count": 2,
   "metadata": {},
   "outputs": [],
   "source": [
    "import torch\n",
    "import torch.nn as nn\n",
    "import torch.optim as optim\n",
    "from torch.autograd import Variable\n",
    "from torch.utils.data import DataLoader,sampler,Dataset\n",
    "import torchvision.datasets as dset\n",
    "import torchvision.transforms as T\n",
    "import timeit\n",
    "from PIL import Image\n",
    "import os\n",
    "import numpy as np\n",
    "import scipy.io\n",
    "from torchsummary import summary"
   ]
  },
  {
   "cell_type": "markdown",
   "metadata": {},
   "source": [
    "## What's this PyTorch business?\n",
    "\n",
    "* When using a framework like PyTorch or TensorFlow you can harness the power of the GPU for your own custom neural network architectures without having to write CUDA code directly.\n",
    "* this notebook will walk you through much of what you need to do to train models using pytorch. if you want to learn more or need further clarification on topics that aren't fully explained here, here are 2 good Pytorch tutorials. 1): http://pytorch.org/tutorials/beginner/deep_learning_60min_blitz.html 2)http://pytorch.org/tutorials/beginner/pytorch_with_examples.html\n",
    "* It's not necessary to have a GPU for this homework, using a GPU can make your code run faster.\n"
   ]
  },
  {
   "cell_type": "markdown",
   "metadata": {},
   "source": [
    "## Load Datasets\n",
    "\n",
    "In this part, we will load the action recognition dataset for the neural network. In order to load data from our custom dataset, we need to write a custom Dataloader. If you put hw6_data.mat, /valClips,/trainClips,/testClips under the folder of ./data/ , you do not need to change anything in this part."
   ]
  },
  {
   "cell_type": "markdown",
   "metadata": {},
   "source": [
    "First, load the labels of the dataset, you should write your path of the hw6_data.mat file."
   ]
  },
  {
   "cell_type": "code",
   "execution_count": 2,
   "metadata": {},
   "outputs": [
    {
     "name": "stdout",
     "output_type": "stream",
     "text": [
      "7770\n",
      "2230\n"
     ]
    }
   ],
   "source": [
    "label_mat=scipy.io.loadmat('./data/hw6_data.mat')\n",
    "label_train=label_mat['trLb']\n",
    "print(len(label_train))\n",
    "label_val=label_mat['valLb']\n",
    "print(len(label_val))"
   ]
  },
  {
   "cell_type": "markdown",
   "metadata": {},
   "source": [
    "### Dataset class\n",
    "\n",
    "torch.utils.data.Dataset is an abstract class representing a dataset. The custom dataset should inherit Dataset and override the following methods:\n",
    "\n",
    "    __len__ so that len(dataset) returns the size of the dataset.\n",
    "    __getitem__ to support the indexing such that dataset[i] can be used to get ith sample\n",
    "\n",
    "Let’s create a dataset class for our action recognition dataset. We will read images in __getitem__. This is memory efficient because all the images are not stored in the memory at once but read as required.\n",
    "\n",
    "Sample of our dataset will be a dict {'image':image,'img_path':img_path,'Label':Label}. Our datset will take an optional argument transform so that any required processing can be applied on the sample. "
   ]
  },
  {
   "cell_type": "code",
   "execution_count": 3,
   "metadata": {},
   "outputs": [],
   "source": [
    "\n",
    "class ActionDataset(Dataset):\n",
    "    \"\"\"Action dataset.\"\"\"\n",
    "\n",
    "    def __init__(self,  root_dir,labels=[], transform=None):\n",
    "        \"\"\"\n",
    "        Args:\n",
    "            root_dir (string): Directory with all the images.\n",
    "            labels(list): labels if images.\n",
    "            transform (callable, optional): Optional transform to be applied on a sample.\n",
    "        \"\"\"\n",
    "        self.root_dir = root_dir\n",
    "        self.transform = transform\n",
    "        self.length=len(os.listdir(self.root_dir))\n",
    "        self.labels=labels\n",
    "    def __len__(self):\n",
    "        return self.length*3\n",
    "\n",
    "    def __getitem__(self, idx):\n",
    "        \n",
    "        folder=int(idx/3)+1\n",
    "        imidx=idx%3+1\n",
    "        folder=format(folder,'05d')\n",
    "        imgname=str(imidx)+'.jpg'\n",
    "        img_path = os.path.join(self.root_dir,\n",
    "                                folder,imgname)\n",
    "        image = Image.open(img_path)\n",
    "        if len(self.labels)!=0:\n",
    "            Label=self.labels[int(idx/3)][0]-1\n",
    "        if self.transform:\n",
    "            image = self.transform(image)\n",
    "        if len(self.labels)!=0:\n",
    "            sample={'image':image,'img_path':img_path,'Label':Label}\n",
    "        else:\n",
    "            sample={'image':image,'img_path':img_path}\n",
    "        return sample\n",
    "  "
   ]
  },
  {
   "cell_type": "markdown",
   "metadata": {},
   "source": [
    "Iterating over the dataset by a for loop."
   ]
  },
  {
   "cell_type": "code",
   "execution_count": 4,
   "metadata": {},
   "outputs": [
    {
     "name": "stdout",
     "output_type": "stream",
     "text": [
      "torch.Size([3, 64, 64])\n",
      "0.0\n",
      "./data/trainClips/00001/1.jpg\n",
      "torch.Size([3, 64, 64])\n",
      "0.0\n",
      "./data/trainClips/00001/2.jpg\n",
      "torch.Size([3, 64, 64])\n",
      "0.0\n",
      "./data/trainClips/00001/3.jpg\n",
      "torch.Size([3, 64, 64])\n",
      "0.0\n",
      "./data/trainClips/00002/1.jpg\n",
      "torch.Size([3, 64, 64])\n",
      "0.0\n",
      "./data/trainClips/00002/2.jpg\n",
      "torch.Size([3, 64, 64])\n",
      "0.0\n",
      "./data/trainClips/00002/3.jpg\n",
      "torch.Size([3, 64, 64])\n",
      "0.0\n",
      "./data/trainClips/00003/1.jpg\n",
      "torch.Size([3, 64, 64])\n",
      "0.0\n",
      "./data/trainClips/00003/2.jpg\n",
      "torch.Size([3, 64, 64])\n",
      "0.0\n",
      "./data/trainClips/00003/3.jpg\n",
      "torch.Size([3, 64, 64])\n",
      "0.0\n",
      "./data/trainClips/00004/1.jpg\n"
     ]
    }
   ],
   "source": [
    "image_dataset=ActionDataset(root_dir='./data/trainClips/',\\\n",
    "                            labels=label_train,transform=T.ToTensor())\n",
    "\n",
    "#iterating though the dataset\n",
    "for i in range(10):\n",
    "    sample=image_dataset[i]\n",
    "    print(sample['image'].shape)\n",
    "    print(sample['Label'])\n",
    "    print(sample['img_path'])\n",
    "     \n",
    "   "
   ]
  },
  {
   "cell_type": "markdown",
   "metadata": {},
   "source": [
    "We can iterate over the created dataset with a 'for' loop as before. However, we are losing a lot of features by using a simple for loop to iterate over the data. In particular, we are missing out on:\n",
    "\n",
    "* Batching the data\n",
    "* Shuffling the data\n",
    "* Load the data in parallel using multiprocessing workers.\n",
    "\n",
    "torch.utils.data.DataLoader is an iterator which provides all these features. "
   ]
  },
  {
   "cell_type": "code",
   "execution_count": 5,
   "metadata": {},
   "outputs": [
    {
     "name": "stdout",
     "output_type": "stream",
     "text": [
      "(0, torch.Size([4, 3, 64, 64]), ['./data/trainClips/04572/3.jpg', './data/trainClips/05974/1.jpg', './data/trainClips/05135/3.jpg', './data/trainClips/02513/2.jpg'], tensor([5., 7., 6., 2.], dtype=torch.float64))\n",
      "(1, torch.Size([4, 3, 64, 64]), ['./data/trainClips/03542/2.jpg', './data/trainClips/07541/1.jpg', './data/trainClips/05055/3.jpg', './data/trainClips/07433/3.jpg'], tensor([4., 9., 6., 9.], dtype=torch.float64))\n",
      "(2, torch.Size([4, 3, 64, 64]), ['./data/trainClips/05161/1.jpg', './data/trainClips/04730/1.jpg', './data/trainClips/02546/1.jpg', './data/trainClips/02503/1.jpg'], tensor([6., 5., 2., 2.], dtype=torch.float64))\n",
      "(3, torch.Size([4, 3, 64, 64]), ['./data/trainClips/03306/1.jpg', './data/trainClips/03569/3.jpg', './data/trainClips/06700/1.jpg', './data/trainClips/06639/2.jpg'], tensor([3., 4., 8., 8.], dtype=torch.float64))\n",
      "(4, torch.Size([4, 3, 64, 64]), ['./data/trainClips/03515/2.jpg', './data/trainClips/05719/3.jpg', './data/trainClips/02484/1.jpg', './data/trainClips/07015/1.jpg'], tensor([3., 7., 2., 8.], dtype=torch.float64))\n",
      "(5, torch.Size([4, 3, 64, 64]), ['./data/trainClips/01282/2.jpg', './data/trainClips/07352/1.jpg', './data/trainClips/04587/3.jpg', './data/trainClips/04497/1.jpg'], tensor([1., 9., 5., 5.], dtype=torch.float64))\n",
      "(6, torch.Size([4, 3, 64, 64]), ['./data/trainClips/00335/3.jpg', './data/trainClips/05386/1.jpg', './data/trainClips/05880/3.jpg', './data/trainClips/07275/1.jpg'], tensor([0., 6., 7., 9.], dtype=torch.float64))\n",
      "(7, torch.Size([4, 3, 64, 64]), ['./data/trainClips/00054/1.jpg', './data/trainClips/05546/1.jpg', './data/trainClips/06270/2.jpg', './data/trainClips/07322/2.jpg'], tensor([0., 6., 7., 9.], dtype=torch.float64))\n",
      "(8, torch.Size([4, 3, 64, 64]), ['./data/trainClips/05199/3.jpg', './data/trainClips/05013/3.jpg', './data/trainClips/01288/3.jpg', './data/trainClips/04078/2.jpg'], tensor([6., 6., 1., 4.], dtype=torch.float64))\n",
      "(9, torch.Size([4, 3, 64, 64]), ['./data/trainClips/04040/2.jpg', './data/trainClips/02670/3.jpg', './data/trainClips/04982/3.jpg', './data/trainClips/02890/3.jpg'], tensor([4., 2., 6., 3.], dtype=torch.float64))\n",
      "(10, torch.Size([4, 3, 64, 64]), ['./data/trainClips/03201/3.jpg', './data/trainClips/03075/1.jpg', './data/trainClips/02539/2.jpg', './data/trainClips/01621/2.jpg'], tensor([3., 3., 2., 1.], dtype=torch.float64))\n",
      "(11, torch.Size([4, 3, 64, 64]), ['./data/trainClips/07056/1.jpg', './data/trainClips/05230/3.jpg', './data/trainClips/06955/2.jpg', './data/trainClips/06219/1.jpg'], tensor([8., 6., 8., 7.], dtype=torch.float64))\n",
      "(12, torch.Size([4, 3, 64, 64]), ['./data/trainClips/01048/1.jpg', './data/trainClips/04444/1.jpg', './data/trainClips/02147/3.jpg', './data/trainClips/02459/3.jpg'], tensor([1., 5., 2., 2.], dtype=torch.float64))\n",
      "(13, torch.Size([4, 3, 64, 64]), ['./data/trainClips/02494/2.jpg', './data/trainClips/06276/2.jpg', './data/trainClips/04677/2.jpg', './data/trainClips/07755/3.jpg'], tensor([2., 7., 5., 9.], dtype=torch.float64))\n",
      "(14, torch.Size([4, 3, 64, 64]), ['./data/trainClips/02571/1.jpg', './data/trainClips/06164/3.jpg', './data/trainClips/07638/2.jpg', './data/trainClips/05218/1.jpg'], tensor([2., 7., 9., 6.], dtype=torch.float64))\n",
      "(15, torch.Size([4, 3, 64, 64]), ['./data/trainClips/04890/3.jpg', './data/trainClips/00825/1.jpg', './data/trainClips/00210/2.jpg', './data/trainClips/07340/1.jpg'], tensor([5., 0., 0., 9.], dtype=torch.float64))\n",
      "(16, torch.Size([4, 3, 64, 64]), ['./data/trainClips/01906/3.jpg', './data/trainClips/07210/2.jpg', './data/trainClips/04080/1.jpg', './data/trainClips/02044/3.jpg'], tensor([2., 9., 4., 2.], dtype=torch.float64))\n",
      "(17, torch.Size([4, 3, 64, 64]), ['./data/trainClips/00405/3.jpg', './data/trainClips/07387/3.jpg', './data/trainClips/04322/1.jpg', './data/trainClips/04358/1.jpg'], tensor([0., 9., 5., 5.], dtype=torch.float64))\n",
      "(18, torch.Size([4, 3, 64, 64]), ['./data/trainClips/03640/3.jpg', './data/trainClips/01289/3.jpg', './data/trainClips/05355/1.jpg', './data/trainClips/04414/2.jpg'], tensor([4., 1., 6., 5.], dtype=torch.float64))\n",
      "(19, torch.Size([4, 3, 64, 64]), ['./data/trainClips/06416/1.jpg', './data/trainClips/00034/3.jpg', './data/trainClips/05729/1.jpg', './data/trainClips/01935/2.jpg'], tensor([7., 0., 7., 2.], dtype=torch.float64))\n",
      "(20, torch.Size([4, 3, 64, 64]), ['./data/trainClips/00732/1.jpg', './data/trainClips/04377/1.jpg', './data/trainClips/05913/1.jpg', './data/trainClips/04616/1.jpg'], tensor([0., 5., 7., 5.], dtype=torch.float64))\n",
      "(21, torch.Size([4, 3, 64, 64]), ['./data/trainClips/05562/3.jpg', './data/trainClips/02825/2.jpg', './data/trainClips/00362/2.jpg', './data/trainClips/04670/2.jpg'], tensor([6., 3., 0., 5.], dtype=torch.float64))\n"
     ]
    }
   ],
   "source": [
    "image_dataloader = DataLoader(image_dataset, batch_size=4,\n",
    "                        shuffle=True, num_workers=4)\n",
    "\n",
    "\n",
    "for i,sample in enumerate(image_dataloader):\n",
    "    sample['image']=sample['image']\n",
    "    print(i,sample['image'].shape,sample['img_path'],sample['Label'])\n",
    "    if i>20: \n",
    "        break"
   ]
  },
  {
   "cell_type": "markdown",
   "metadata": {},
   "source": [
    "Dataloaders for the training, validationg and testing set. "
   ]
  },
  {
   "cell_type": "code",
   "execution_count": 6,
   "metadata": {},
   "outputs": [],
   "source": [
    "image_dataset_train=ActionDataset(root_dir='./data/trainClips/',labels=label_train,transform=T.ToTensor())\n",
    "\n",
    "image_dataloader_train = DataLoader(image_dataset_train, batch_size=32,\n",
    "                        shuffle=True, num_workers=4)\n",
    "image_dataset_val=ActionDataset(root_dir='./data/valClips/',labels=label_val,transform=T.ToTensor())\n",
    "\n",
    "image_dataloader_val = DataLoader(image_dataset_val, batch_size=32,\n",
    "                        shuffle=False, num_workers=4)\n",
    "image_dataset_test=ActionDataset(root_dir='./data/testClips/',labels=[],transform=T.ToTensor())\n",
    "\n",
    "image_dataloader_test = DataLoader(image_dataset_test, batch_size=32,\n",
    "                        shuffle=False, num_workers=4)"
   ]
  },
  {
   "cell_type": "code",
   "execution_count": 7,
   "metadata": {},
   "outputs": [],
   "source": [
    "dtype = torch.FloatTensor # the CPU datatype\n",
    "# Constant to control how frequently we print train loss\n",
    "print_every = 100\n",
    "# This is a little utility that we'll use to reset the model\n",
    "# if we want to re-initialize all our parameters\n",
    "def reset(m):\n",
    "    if hasattr(m, 'reset_parameters'):\n",
    "        m.reset_parameters()"
   ]
  },
  {
   "cell_type": "markdown",
   "metadata": {},
   "source": [
    "## Example Model\n",
    "\n",
    "### Some assorted tidbits\n",
    "\n",
    "Let's start by looking at a simple model. First, note that PyTorch operates on Tensors, which are n-dimensional arrays functionally analogous to numpy's ndarrays, with the additional feature that they can be used for computations on GPUs.\n",
    "\n",
    "We'll provide you with a Flatten function, which we explain here. Remember that our image data (and more relevantly, our intermediate feature maps) are initially N x C x H x W, where:\n",
    "* N is the number of datapoints\n",
    "* C is the number of image channels. \n",
    "* H is the height of the intermediate feature map in pixels\n",
    "* W is the height of the intermediate feature map in pixels\n",
    "\n",
    "This is the right way to represent the data when we are doing something like a 2D convolution, that needs spatial understanding of where the intermediate features are relative to each other. When we input  data into fully connected affine layers, however, we want each datapoint to be represented by a single vector -- it's no longer useful to segregate the different channels, rows, and columns of the data. So, we use a \"Flatten\" operation to collapse the C x H x W values per representation into a single long vector. The Flatten function below first reads in the N, C, H, and W values from a given batch of data, and then returns a \"view\" of that data. \"View\" is analogous to numpy's \"reshape\" method: it reshapes x's dimensions to be N x ??, where ?? is allowed to be anything (in this case, it will be C x H x W, but we don't need to specify that explicitly). "
   ]
  },
  {
   "cell_type": "code",
   "execution_count": 8,
   "metadata": {},
   "outputs": [],
   "source": [
    "class Flatten(nn.Module):\n",
    "    def forward(self, x):\n",
    "        N, C, H, W = x.size() # read in N, C, H, W\n",
    "        return x.view(N, -1)  # \"flatten\" the C * H * W values into a single vector per image"
   ]
  },
  {
   "cell_type": "markdown",
   "metadata": {},
   "source": [
    "### The example model itself\n",
    "\n",
    "The first step to training your own model is defining its architecture.\n",
    "\n",
    "Here's an example of a convolutional neural network defined in PyTorch -- try to understand what each line is doing, remembering that each layer is composed upon the previous layer. We haven't trained anything yet - that'll come next - for now, we want you to understand how everything gets set up.  nn.Sequential is a container which applies each layer\n",
    "one after the other.\n",
    "\n",
    "In this example, you see 2D convolutional layers (Conv2d), ReLU activations, and fully-connected layers (Linear). You also see the Cross-Entropy loss function, and the Adam optimizer being used. \n",
    "\n",
    "Make sure you understand why the parameters of the Linear layer are 10092 and 10.\n"
   ]
  },
  {
   "cell_type": "code",
   "execution_count": 9,
   "metadata": {},
   "outputs": [],
   "source": [
    "# Here's where we define the architecture of the model... \n",
    "simple_model = nn.Sequential(\n",
    "                nn.Conv2d(3, 32, kernel_size=7, stride=2),\n",
    "                nn.ReLU(inplace=True),\n",
    "                Flatten(), # see above for explanation\n",
    "                nn.Linear(10092, 10), # affine layer\n",
    "              )\n",
    "\n",
    "# Set the type of all data in this model to be FloatTensor \n",
    "simple_model.type(dtype)\n",
    "\n",
    "loss_fn = nn.CrossEntropyLoss().type(dtype)\n",
    "optimizer = optim.Adam(simple_model.parameters(), lr=1e-2) # lr sets the learning rate of the optimizer"
   ]
  },
  {
   "cell_type": "markdown",
   "metadata": {},
   "source": [
    "PyTorch supports many other layer types, loss functions, and optimizers - you will experiment with these next. Here's the official API documentation for these (if any of the parameters used above were unclear, this resource will also be helpful). \n",
    "\n",
    "* Layers: http://pytorch.org/docs/nn.html\n",
    "* Activations: http://pytorch.org/docs/nn.html#non-linear-activations\n",
    "* Loss functions: http://pytorch.org/docs/nn.html#loss-functions\n",
    "* Optimizers: http://pytorch.org/docs/optim.html#algorithms"
   ]
  },
  {
   "cell_type": "markdown",
   "metadata": {},
   "source": [
    "## Training a specific model\n",
    "\n",
    "In this section, we're going to specify a model for you to construct. The goal here isn't to get good performance (that'll be next), but instead to get comfortable with understanding the PyTorch documentation and configuring your own model. \n",
    "\n",
    "Using the code provided above as guidance, and using the following PyTorch documentation, specify a model with the following architecture:\n",
    "\n",
    "* 7x7 Convolutional Layer with 8 filters and stride of 1\n",
    "* ReLU Activation Layer\n",
    "* 2x2 Max Pooling layer with a stride of 2\n",
    "* 7x7 Convolutional Layer with 16 filters and stride of 1\n",
    "* ReLU Activation Layer\n",
    "* 2x2 Max Pooling layer with a stride of 2\n",
    "* Flatten the feature map\n",
    "* ReLU Activation Layer\n",
    "* Affine layer to map input units to 10 outputs, you need to figure out the input size here.\n"
   ]
  },
  {
   "cell_type": "code",
   "execution_count": 10,
   "metadata": {},
   "outputs": [],
   "source": [
    "fixed_model_base = nn.Sequential( \n",
    "    #########1st TODO  (10 points)###################\n",
    "    nn.Conv2d(3, 8, kernel_size=7, stride=1),\n",
    "    nn.ReLU(inplace=True),\n",
    "    nn.MaxPool2d(kernel_size=2, stride=2),\n",
    "    nn.Conv2d(8, 16, kernel_size=7, stride=1),\n",
    "    nn.ReLU(inplace=True),\n",
    "    nn.MaxPool2d(kernel_size=2, stride=2),\n",
    "    Flatten(),\n",
    "    nn.ReLU(inplace=True),\n",
    "    nn.Linear(1936, 10)\n",
    "    ####################################\n",
    "            )\n",
    "fixed_model = fixed_model_base.type(dtype)\n",
    "\n"
   ]
  },
  {
   "cell_type": "markdown",
   "metadata": {},
   "source": [
    "To make sure you're doing the right thing, use the following tool to check the dimensionality of your output (it should be 32 x 10, since our batches have size 32 and the output of the final affine layer should be 10, corresponding to our 10 classes):"
   ]
  },
  {
   "cell_type": "code",
   "execution_count": 11,
   "metadata": {},
   "outputs": [
    {
     "name": "stdout",
     "output_type": "stream",
     "text": [
      "[32 10]\n"
     ]
    },
    {
     "data": {
      "text/plain": [
       "True"
      ]
     },
     "execution_count": 11,
     "metadata": {},
     "output_type": "execute_result"
    }
   ],
   "source": [
    "## Now we're going to feed a random batch into the model you defined and make sure the output is the right size\n",
    "x = torch.randn(32, 3, 64, 64).type(dtype)\n",
    "x_var = Variable(x.type(dtype)) # Construct a PyTorch Variable out of your input data\n",
    "ans = fixed_model(x_var)        # Feed it through the model! \n",
    "\n",
    "# Check to make sure what comes out of your model\n",
    "# is the right dimensionality... this should be True\n",
    "# if you've done everything correctly\n",
    "print(np.array(ans.size()))\n",
    "np.array_equal(np.array(ans.size()), np.array([32, 10]))   \n"
   ]
  },
  {
   "cell_type": "markdown",
   "metadata": {},
   "source": [
    "### Train the model.\n",
    "\n",
    "Now that you've seen how to define a model and do a single forward pass of some data through it, let's  walk through how you'd actually train one whole epoch over your training data (using the fixed_model_base we provided above).\n",
    "\n",
    "Make sure you understand how each PyTorch function used below corresponds to what you implemented in your custom neural network implementation.\n",
    "\n",
    "Note that because we are not resetting the weights anywhere below, if you run the cell multiple times, you are effectively training multiple epochs (so your performance should improve).\n",
    "\n",
    "First, set up an RMSprop optimizer (using a 1e-4 learning rate) and a cross-entropy loss function:"
   ]
  },
  {
   "cell_type": "code",
   "execution_count": 12,
   "metadata": {},
   "outputs": [],
   "source": [
    "################ 2nd TODO  (5 points)##################\n",
    "optimizer = torch.optim.RMSprop(fixed_model_base.parameters(), lr = 0.0001)\n",
    "loss_fn = nn.CrossEntropyLoss()"
   ]
  },
  {
   "cell_type": "code",
   "execution_count": 13,
   "metadata": {},
   "outputs": [
    {
     "name": "stderr",
     "output_type": "stream",
     "text": [
      "/usr/local/lib/python2.7/dist-packages/ipykernel_launcher.py:20: UserWarning: invalid index of a 0-dim tensor. This will be an error in PyTorch 0.5. Use tensor.item() to convert a 0-dim tensor to a Python number\n"
     ]
    },
    {
     "name": "stdout",
     "output_type": "stream",
     "text": [
      "t = 100, loss = 1.9794\n",
      "t = 200, loss = 1.6585\n",
      "t = 300, loss = 1.7687\n",
      "t = 400, loss = 1.3849\n",
      "t = 500, loss = 1.3847\n",
      "t = 600, loss = 1.3364\n",
      "t = 700, loss = 1.3302\n"
     ]
    }
   ],
   "source": [
    "# This sets the model in \"training\" mode. \n",
    "# This is relevant for some layers that may have different behavior\n",
    "# in training mode vs testing mode, such as Dropout and BatchNorm. \n",
    "fixed_model.train()\n",
    "\n",
    "# Load one batch at a time.\n",
    "for t, sample in enumerate(image_dataloader_train):\n",
    "    x_var = Variable(sample['image'])\n",
    "    #print(type(x_var.data))\n",
    "    #print(x_var.shape)\n",
    "    y_var = Variable(sample['Label']).long()\n",
    "\n",
    "    # This is the forward pass: predict the scores for each class, for each x in the batch.\n",
    "    scores = fixed_model(x_var)\n",
    "    \n",
    "    # Use the correct y values and the predicted y values to compute the loss.\n",
    "    loss = loss_fn(scores, y_var)\n",
    "    \n",
    "    if (t + 1) % print_every == 0:\n",
    "        print('t = %d, loss = %.4f' % (t + 1, loss.data[0]))\n",
    "\n",
    "    # Zero out all of the gradients for the variables which the optimizer will update.\n",
    "    optimizer.zero_grad()\n",
    "    \n",
    "    # This is the backwards pass: compute the gradient of the loss with respect to each \n",
    "    # parameter of the model.\n",
    "    loss.backward()\n",
    "    \n",
    "    # Actually update the parameters of the model using the gradients computed by the backwards pass.\n",
    "    optimizer.step()\n",
    "   "
   ]
  },
  {
   "cell_type": "markdown",
   "metadata": {},
   "source": [
    "Now you've seen how the training process works in PyTorch. To save you writing boilerplate code, we're providing the following helper functions to help you train for multiple epochs and check the accuracy of your model:"
   ]
  },
  {
   "cell_type": "code",
   "execution_count": 14,
   "metadata": {},
   "outputs": [],
   "source": [
    "def train(model, loss_fn, optimizer, dataloader, num_epochs = 1):\n",
    "    for epoch in range(num_epochs):\n",
    "        print('Starting epoch %d / %d' % (epoch + 1, num_epochs))\n",
    "        model.train()\n",
    "        for t, sample in enumerate(dataloader):\n",
    "            x_var = Variable(sample['image'])\n",
    "            y_var = Variable(sample['Label'].long())\n",
    "\n",
    "            scores = model(x_var)\n",
    "            \n",
    "            loss = loss_fn(scores, y_var)\n",
    "            if (t + 1) % print_every == 0:\n",
    "                print('t = %d, loss = %.4f' % (t + 1, loss.data[0]))\n",
    "\n",
    "            optimizer.zero_grad()\n",
    "            loss.backward()\n",
    "            optimizer.step()\n",
    "\n",
    "def check_accuracy(model, loader):\n",
    "    '''\n",
    "    if loader.dataset.train:\n",
    "        print('Checking accuracy on validation set')\n",
    "    else:\n",
    "        print('Checking accuracy on test set')  \n",
    "    '''\n",
    "    num_correct = 0\n",
    "    num_samples = 0\n",
    "    model.eval() # Put the model in test mode (the opposite of model.train(), essentially)\n",
    "    for t, sample in enumerate(loader):\n",
    "        x_var = Variable(sample['image'])\n",
    "        y_var = sample['Label']\n",
    "        #y_var=y_var.cpu()\n",
    "        scores = model(x_var)\n",
    "        _, preds = scores.data.max(1)#scores.data.cpu().max(1)\n",
    "        #print(preds)\n",
    "        #print(y_var)\n",
    "        num_correct += (preds.numpy() == y_var.numpy()).sum()\n",
    "        num_samples += preds.size(0)\n",
    "    acc = float(num_correct) / num_samples\n",
    "    print('Got %d / %d correct (%.2f)' % (num_correct, num_samples, 100 * acc))\n",
    "    \n",
    "    \n",
    "\n"
   ]
  },
  {
   "cell_type": "markdown",
   "metadata": {},
   "source": [
    "### Check the accuracy of the model.\n",
    "\n",
    "Let's see the train and check_accuracy code in action -- feel free to use these methods when evaluating the models you develop below.\n",
    "\n",
    "You should get a training loss of around 1.0-1.2, and a validation accuracy of around 50-60%. As mentioned above, if you re-run the cells, you'll be training more epochs, so your performance will improve past these numbers.\n",
    "\n",
    "But don't worry about getting these numbers better -- this was just practice before you tackle designing your own model."
   ]
  },
  {
   "cell_type": "code",
   "execution_count": 18,
   "metadata": {},
   "outputs": [
    {
     "name": "stdout",
     "output_type": "stream",
     "text": [
      "Starting epoch 1 / 4\n"
     ]
    },
    {
     "name": "stderr",
     "output_type": "stream",
     "text": [
      "/usr/local/lib/python2.7/dist-packages/ipykernel_launcher.py:13: UserWarning: invalid index of a 0-dim tensor. This will be an error in PyTorch 0.5. Use tensor.item() to convert a 0-dim tensor to a Python number\n",
      "  del sys.path[0]\n"
     ]
    },
    {
     "name": "stdout",
     "output_type": "stream",
     "text": [
      "t = 100, loss = 2.2922\n",
      "t = 200, loss = 2.2640\n",
      "t = 300, loss = 2.1622\n",
      "t = 400, loss = 1.8757\n",
      "t = 500, loss = 1.7532\n",
      "t = 600, loss = 1.5534\n",
      "t = 700, loss = 1.6626\n",
      "Starting epoch 2 / 4\n",
      "t = 100, loss = 1.8409\n",
      "t = 200, loss = 1.3446\n",
      "t = 300, loss = 0.9724\n",
      "t = 400, loss = 1.0138\n",
      "t = 500, loss = 1.0166\n",
      "t = 600, loss = 0.8713\n",
      "t = 700, loss = 0.9027\n",
      "Starting epoch 3 / 4\n",
      "t = 100, loss = 0.8842\n",
      "t = 200, loss = 0.9790\n",
      "t = 300, loss = 0.5493\n",
      "t = 400, loss = 1.0489\n",
      "t = 500, loss = 0.8538\n",
      "t = 600, loss = 0.8192\n",
      "t = 700, loss = 0.6244\n",
      "Starting epoch 4 / 4\n",
      "t = 100, loss = 0.5160\n",
      "t = 200, loss = 0.4333\n",
      "t = 300, loss = 0.5515\n",
      "t = 400, loss = 0.9081\n",
      "t = 500, loss = 0.8962\n",
      "t = 600, loss = 0.5640\n",
      "t = 700, loss = 0.5809\n",
      "Got 19116 / 23310 correct (82.01)\n"
     ]
    }
   ],
   "source": [
    "torch.random.manual_seed(12345)\n",
    "fixed_model.cpu()\n",
    "fixed_model.apply(reset) \n",
    "fixed_model.train() \n",
    "train(fixed_model, loss_fn, optimizer,image_dataloader_train, num_epochs=4) \n",
    "check_accuracy(fixed_model, image_dataloader_train)# check accuracy on the training set\n"
   ]
  },
  {
   "cell_type": "markdown",
   "metadata": {},
   "source": [
    "### Don't forget the validation set!\n",
    "\n",
    "And note that you can use the check_accuracy function to evaluate on the validation set, by passing **image_dataloader_val** as the second argument to check_accuracy. The accuracy on validation set is arround 40-50%."
   ]
  },
  {
   "cell_type": "code",
   "execution_count": 19,
   "metadata": {},
   "outputs": [
    {
     "name": "stdout",
     "output_type": "stream",
     "text": [
      "Got 3529 / 6690 correct (52.75)\n"
     ]
    }
   ],
   "source": [
    "check_accuracy(fixed_model, image_dataloader_val)#check accuracy on the validation set"
   ]
  },
  {
   "cell_type": "markdown",
   "metadata": {},
   "source": [
    "##### Train a better  model for action recognition!\n",
    "\n",
    "Now it's your job to experiment with architectures, hyperparameters, loss functions, and optimizers to train a model that achieves better accuracy on the action recognition **validation** set. You can use the check_accuracy and train functions from above."
   ]
  },
  {
   "cell_type": "markdown",
   "metadata": {},
   "source": [
    "### Things you should try:\n",
    "- **Filter size**: Above we used 7x7; this makes pretty pictures but smaller filters may be more efficient\n",
    "- **Number of filters**: Do more or fewer do better?\n",
    "- **Pooling vs Strided Convolution**: Do you use max pooling or just stride convolutions?\n",
    "- **Batch normalization**: Try adding spatial batch normalization after convolution layers and vanilla batch normalization after affine layers. Do your networks train faster?\n",
    "- **Network architecture**: The network above has two layers of trainable parameters. Can you do better with a deep network? Good architectures to try include:\n",
    "    - [conv-relu-pool]xN -> [affine]xM -> [softmax or SVM]\n",
    "    - [conv-relu-conv-relu-pool]xN -> [affine]xM -> [softmax or SVM]\n",
    "    - [batchnorm-relu-conv]xN -> [affine]xM -> [softmax or SVM]\n",
    "- **Global Average Pooling**: Instead of flattening and then having multiple affine layers, perform convolutions until your image gets small (7x7 or so) and then perform an average pooling operation to get to a 1x1 image picture (1, 1 , Filter#), which is then reshaped into a (Filter#) vector. This is used in [Google's Inception Network](https://arxiv.org/abs/1512.00567) (See Table 1 for their architecture).\n",
    "- **Regularization**: Add l2 weight regularization, or perhaps use Dropout.\n",
    "\n",
    "### Tips for training\n",
    "For each network architecture that you try, you should tune the learning rate and regularization strength. When doing this there are a couple important things to keep in mind:\n",
    "\n",
    "- If the parameters are working well, you should see improvement within a few hundred iterations\n",
    "- Remember the coarse-to-fine approach for hyperparameter tuning: start by testing a large range of hyperparameters for just a few training iterations to find the combinations of parameters that are working at all.\n",
    "- Once you have found some sets of parameters that seem to work, search more finely around these parameters. You may need to train for more epochs.\n",
    "- You should use the validation set for hyperparameter search, and save your test set for evaluating your architecture on the best parameters as selected by the validation set.\n",
    "\n",
    "### Going above and beyond\n",
    "If you are feeling adventurous there are many other features you can implement to try and improve your performance. You are **not required** to implement any of these; however they would be good things to try.\n",
    "\n",
    "- Alternative update steps: For the assignment we implemented SGD+momentum, RMSprop, and Adam; you could try alternatives like AdaGrad or AdaDelta.\n",
    "- Alternative activation functions such as leaky ReLU, parametric ReLU, ELU, or MaxOut.\n",
    "- Model ensembles\n",
    "- Data augmentation\n",
    "- New Architectures\n",
    "  - [ResNets](https://arxiv.org/abs/1512.03385) where the input from the previous layer is added to the output.\n",
    "  - [DenseNets](https://arxiv.org/abs/1608.06993) where inputs into previous layers are concatenated together.\n",
    "  - [This blog has an in-depth overview](https://chatbotslife.com/resnets-highwaynets-and-densenets-oh-my-9bb15918ee32)\n",
    "\n",
    "If you do decide to implement something extra, clearly describe it in the \"Extra Credit Description\" cell below.\n",
    "\n",
    "### What we expect\n",
    "At the very least, you should be able to train a ConvNet that gets at least 55% accuracy on the validation set. This is just a lower bound - if you are careful it should be possible to get accuracies much higher than that! Extra credit points will be awarded for particularly high-scoring models or unique approaches.\n",
    "\n",
    "You should use the space below to experiment and train your network. \n",
    "\n"
   ]
  },
  {
   "cell_type": "code",
   "execution_count": 20,
   "metadata": {},
   "outputs": [
    {
     "name": "stdout",
     "output_type": "stream",
     "text": [
      "Starting epoch 1 / 1\n"
     ]
    },
    {
     "name": "stderr",
     "output_type": "stream",
     "text": [
      "/usr/local/lib/python2.7/dist-packages/ipykernel_launcher.py:13: UserWarning: invalid index of a 0-dim tensor. This will be an error in PyTorch 0.5. Use tensor.item() to convert a 0-dim tensor to a Python number\n",
      "  del sys.path[0]\n"
     ]
    },
    {
     "name": "stdout",
     "output_type": "stream",
     "text": [
      "t = 100, loss = 0.6221\n",
      "t = 200, loss = 0.2417\n",
      "t = 300, loss = 0.2470\n",
      "t = 400, loss = 0.0629\n",
      "Got 22770 / 23310 correct (97.68)\n",
      "Got 6451 / 6690 correct (96.43)\n"
     ]
    }
   ],
   "source": [
    "###########3rd TODO (20 points, must submit the results to Kaggle) ##############\n",
    "# Train your model here, and make sure the output of this cell is the accuracy of your best model on the \n",
    "# train, val, and test sets. Here's some code to get you started. The output of this cell should be the training\n",
    "# and validation accuracy on your best model (measured by validation accuracy).\n",
    "\n",
    "image_dataloader_aug = DataLoader(image_dataset_train+image_dataset_val, batch_size=64,\n",
    "                        shuffle=True, num_workers=4)\n",
    "\n",
    "\n",
    "model = nn.Sequential(\n",
    "    nn.Conv2d(3, 8, kernel_size=3, stride=1, padding=0),\n",
    "    nn.BatchNorm2d(8), \n",
    "    nn.ReLU(inplace=True),\n",
    "    nn.MaxPool2d(kernel_size=2, padding=1),\n",
    "\n",
    "    nn.Conv2d(8, 16, kernel_size=3, stride=1, padding=0),\n",
    "    nn.BatchNorm2d(16),\n",
    "    nn.ReLU(inplace=True),\n",
    "    nn.MaxPool2d(kernel_size=2, padding=1),\n",
    "\n",
    "    nn.Conv2d(16, 32, kernel_size=3, stride=1, padding=0),\n",
    "    nn.BatchNorm2d(32),\n",
    "    nn.ReLU(inplace=True),\n",
    "    nn.MaxPool2d(kernel_size=2, padding=1),\n",
    "\n",
    "    nn.Conv2d(32, 64, kernel_size=3, stride=1, padding=0),\n",
    "    nn.BatchNorm2d(64),\n",
    "    nn.ReLU(inplace=True),\n",
    "    nn.MaxPool2d(kernel_size=2, padding=1),\n",
    "\n",
    "    Flatten(),\n",
    "    nn.Dropout(0.1),\n",
    "    nn.Linear(1024, 10)    \n",
    "    )\n",
    "\n",
    "\n",
    "\n",
    "loss_fn = nn.CrossEntropyLoss()\n",
    "optimizer = optim.Adam(model.parameters()) # lr sets the learning rate of the optimizer\n",
    "\n",
    "torch.random.manual_seed(1332)\n",
    "model.cpu()\n",
    "model.apply(reset) \n",
    "model.train() \n",
    "\n",
    "train(model, loss_fn, optimizer, image_dataloader_aug, num_epochs=1) \n",
    "check_accuracy(model, image_dataloader_train)# check accuracy on the training set\n",
    "\n",
    "check_accuracy(model, image_dataloader_val)"
   ]
  },
  {
   "cell_type": "markdown",
   "metadata": {},
   "source": [
    "### Describe what you did \n",
    "\n",
    "In the cell below you should write an explanation of what you did, any additional features that you implemented, and any visualizations or graphs that you make in the process of training and evaluating your network."
   ]
  },
  {
   "cell_type": "code",
   "execution_count": 31,
   "metadata": {},
   "outputs": [
    {
     "name": "stdout",
     "output_type": "stream",
     "text": [
      "Sequential(\n",
      "  (0): Conv2d(3, 8, kernel_size=(3, 3), stride=(1, 1))\n",
      "  (1): BatchNorm2d(8, eps=1e-05, momentum=0.1, affine=True, track_running_stats=True)\n",
      "  (2): ReLU(inplace)\n",
      "  (3): MaxPool2d(kernel_size=2, stride=2, padding=1, dilation=1, ceil_mode=False)\n",
      "  (4): Conv2d(8, 16, kernel_size=(3, 3), stride=(1, 1))\n",
      "  (5): BatchNorm2d(16, eps=1e-05, momentum=0.1, affine=True, track_running_stats=True)\n",
      "  (6): ReLU(inplace)\n",
      "  (7): MaxPool2d(kernel_size=2, stride=2, padding=1, dilation=1, ceil_mode=False)\n",
      "  (8): Conv2d(16, 32, kernel_size=(3, 3), stride=(1, 1))\n",
      "  (9): BatchNorm2d(32, eps=1e-05, momentum=0.1, affine=True, track_running_stats=True)\n",
      "  (10): ReLU(inplace)\n",
      "  (11): MaxPool2d(kernel_size=2, stride=2, padding=1, dilation=1, ceil_mode=False)\n",
      "  (12): Conv2d(32, 64, kernel_size=(3, 3), stride=(1, 1))\n",
      "  (13): BatchNorm2d(64, eps=1e-05, momentum=0.1, affine=True, track_running_stats=True)\n",
      "  (14): ReLU(inplace)\n",
      "  (15): MaxPool2d(kernel_size=2, stride=2, padding=1, dilation=1, ceil_mode=False)\n",
      "  (16): Flatten()\n",
      "  (17): Dropout(p=0.1)\n",
      "  (18): Linear(in_features=1024, out_features=10, bias=True)\n",
      ")\n",
      "----------------------------------------------------------------\n",
      "        Layer (type)               Output Shape         Param #\n",
      "================================================================\n",
      "            Conv2d-1            [-1, 8, 62, 62]             224\n",
      "       BatchNorm2d-2            [-1, 8, 62, 62]              16\n",
      "              ReLU-3            [-1, 8, 62, 62]               0\n",
      "         MaxPool2d-4            [-1, 8, 32, 32]               0\n",
      "            Conv2d-5           [-1, 16, 30, 30]           1,168\n",
      "       BatchNorm2d-6           [-1, 16, 30, 30]              32\n",
      "              ReLU-7           [-1, 16, 30, 30]               0\n",
      "         MaxPool2d-8           [-1, 16, 16, 16]               0\n",
      "            Conv2d-9           [-1, 32, 14, 14]           4,640\n",
      "      BatchNorm2d-10           [-1, 32, 14, 14]              64\n",
      "             ReLU-11           [-1, 32, 14, 14]               0\n",
      "        MaxPool2d-12             [-1, 32, 8, 8]               0\n",
      "           Conv2d-13             [-1, 64, 6, 6]          18,496\n",
      "      BatchNorm2d-14             [-1, 64, 6, 6]             128\n",
      "             ReLU-15             [-1, 64, 6, 6]               0\n",
      "        MaxPool2d-16             [-1, 64, 4, 4]               0\n",
      "          Flatten-17                 [-1, 1024]               0\n",
      "          Dropout-18                 [-1, 1024]               0\n",
      "           Linear-19                   [-1, 10]          10,250\n",
      "================================================================\n",
      "Total params: 35,018\n",
      "Trainable params: 35,018\n",
      "Non-trainable params: 0\n",
      "----------------------------------------------------------------\n",
      "Input size (MB): 0.05\n",
      "Forward/backward pass size (MB): 1.36\n",
      "Params size (MB): 0.13\n",
      "Estimated Total Size (MB): 1.54\n",
      "----------------------------------------------------------------\n",
      "None\n"
     ]
    }
   ],
   "source": [
    "print model\n",
    "# pip install torchsummary\n",
    "from torchsummary import summary\n",
    "print summary(model, (3, 64, 64))"
   ]
  },
  {
   "cell_type": "markdown",
   "metadata": {},
   "source": [
    "Tell us here!\n",
    "########### 4th TODO (5 points) ##############\n",
    "### Starting from the model given previously, the following changes were incorporated.\n",
    "\n",
    "#### 1. Decreased kernel-size from 7x7 to 3x3 for Conv2d Layers : \n",
    "Since the images are small, smaller filter-size helped capture the local features better thus improving the performance.\n",
    "#### 2. Decreased stride from 2 to 1 :\n",
    "Smaller stride works better.\n",
    "#### 3. Added more layers to the network\n",
    "#### 4. Conv2d -> BatchNorm -> ReLU -> MaxPool2d\n",
    "Max pooling works better than average pooling\n",
    "#### 5. Dropout : \n",
    "partly helped to reduce overfitting (not much)\n",
    "#### 6. Data Augmentation : Trained on train + validation dataset : \n",
    "increased the accuracy on test. Since model is seeing more data (val) than just train data as previously, more data, better results. \n",
    "#### 7. Increased the batch-size to 64\n",
    "\n",
    "###############################################\n",
    "Other failed approaches mentioned at the end of the notebook"
   ]
  },
  {
   "cell_type": "markdown",
   "metadata": {},
   "source": [
    "### Testing the model and submit on Kaggle\n",
    "Testing the model on the testing set and save the results as a .csv file. \n",
    "Please submitted the results.csv file generated by predict_on_test() to Kaggle(https://www.kaggle.com/c/cse512springhw3) to see how well your network performs on the test set. \n",
    "#######5th TODO (submit the result to Kaggle, the highest 3 entries get extra 10 points )###############\n",
    "### Kaggle Score : 0.69133"
   ]
  },
  {
   "cell_type": "code",
   "execution_count": 21,
   "metadata": {},
   "outputs": [
    {
     "name": "stdout",
     "output_type": "stream",
     "text": [
      "9810\n"
     ]
    }
   ],
   "source": [
    "def predict_on_test(model, loader):\n",
    "    '''\n",
    "    if loader.dataset.train:\n",
    "        print('Checking accuracy on validation set')\n",
    "    else:\n",
    "        print('Checking accuracy on test set')  \n",
    "    '''\n",
    "    num_correct = 0\n",
    "    num_samples = 0\n",
    "    model.eval() # Put the model in test mode (the opposite of model.train(), essentially)\n",
    "    results=open('results.csv','w')\n",
    "    count=0\n",
    "    results.write('Id'+','+'Class'+'\\n')\n",
    "    for t, sample in enumerate(loader):\n",
    "        x_var = Variable(sample['image'])\n",
    "        scores = model(x_var)\n",
    "        _, preds = scores.data.max(1)\n",
    "        for i in range(len(preds)):\n",
    "            results.write(str(count)+','+str(preds[i])+'\\n')\n",
    "            count+=1\n",
    "    results.close()\n",
    "    return count\n",
    "    \n",
    "count=predict_on_test(model, image_dataloader_test)\n",
    "print(count)"
   ]
  },
  {
   "cell_type": "markdown",
   "metadata": {},
   "source": [
    "### GPU! (This part is optional, 0 points)\n",
    "\n",
    "If you have access to GPU, you can make the code run on GPU, it would be much faster. \n",
    "\n",
    "Now, we're going to switch the dtype of the model and our data to the GPU-friendly tensors, and see what happens... everything is the same, except we are casting our model and input tensors as this new dtype instead of the old one.\n",
    "\n",
    "If this returns false, or otherwise fails in a not-graceful way (i.e., with some error message), you may not have an NVIDIA GPU available on your machine. "
   ]
  },
  {
   "cell_type": "code",
   "execution_count": null,
   "metadata": {
    "collapsed": true
   },
   "outputs": [],
   "source": [
    "# Verify that CUDA is properly configured and you have a GPU available\n",
    "\n",
    "torch.cuda.is_available()"
   ]
  },
  {
   "cell_type": "code",
   "execution_count": null,
   "metadata": {
    "collapsed": true
   },
   "outputs": [],
   "source": [
    "import copy\n",
    "gpu_dtype = torch.cuda.FloatTensor\n",
    "\n",
    "fixed_model_gpu = copy.deepcopy(fixed_model_base)#.type(gpu_dtype)\n",
    "fixed_model_gpu.cuda()\n",
    "x_gpu = torch.randn(4, 3, 64, 64).cuda()#.type(gpu_dtype)\n",
    "x_var_gpu = Variable(x_gpu)#type(gpu_dtype)) # Construct a PyTorch Variable out of your input data\n",
    "ans = fixed_model_gpu(x_var_gpu)        # Feed it through the model! \n",
    "\n",
    "# Check to make sure what comes out of your model\n",
    "# is the right dimensionality... this should be True\n",
    "# if you've done everything correctly\n",
    "np.array_equal(np.array(ans.size()), np.array([4, 10]))\n"
   ]
  },
  {
   "cell_type": "markdown",
   "metadata": {},
   "source": [
    "Run the following cell to evaluate the performance of the forward pass running on the CPU:"
   ]
  },
  {
   "cell_type": "code",
   "execution_count": null,
   "metadata": {
    "collapsed": true
   },
   "outputs": [],
   "source": [
    "%%timeit \n",
    "ans = fixed_model(x_var)"
   ]
  },
  {
   "cell_type": "markdown",
   "metadata": {},
   "source": [
    "... and now the GPU:"
   ]
  },
  {
   "cell_type": "code",
   "execution_count": null,
   "metadata": {
    "collapsed": true
   },
   "outputs": [],
   "source": [
    "%%timeit \n",
    "torch.cuda.synchronize() # Make sure there are no pending GPU computations\n",
    "ans = fixed_model_gpu(x_var_gpu)        # Feed it through the model! \n",
    "torch.cuda.synchronize() # Make sure there are no pending GPU computations"
   ]
  },
  {
   "cell_type": "markdown",
   "metadata": {},
   "source": [
    "You should observe that even a simple forward pass like this is significantly faster on the GPU. So for the rest of the assignment (and when you go train your models in assignment 3 and your project!), you should use the GPU datatype for your model and your tensors: as a reminder that is *torch.cuda.FloatTensor* (in our notebook here as *gpu_dtype*)"
   ]
  },
  {
   "cell_type": "markdown",
   "metadata": {},
   "source": [
    "Let's make the loss function and training variables to GPU friendly format by '.cuda()'"
   ]
  },
  {
   "cell_type": "code",
   "execution_count": null,
   "metadata": {
    "collapsed": true
   },
   "outputs": [],
   "source": [
    "loss_fn = nn.CrossEntropyLoss().cuda()\n",
    "optimizer = optim.RMSprop(fixed_model_gpu.parameters(), lr=1e-4)"
   ]
  },
  {
   "cell_type": "code",
   "execution_count": null,
   "metadata": {
    "collapsed": true
   },
   "outputs": [],
   "source": [
    "def train(model, loss_fn, optimizer, dataloader, num_epochs = 1):\n",
    "    for epoch in range(num_epochs):\n",
    "        print('Starting epoch %d / %d' % (epoch + 1, num_epochs))\n",
    "        model.train()\n",
    "        for t, sample in enumerate(dataloader):\n",
    "            x_var = Variable(sample['image'].cuda())\n",
    "            y_var = Variable(sample['Label'].cuda().long())\n",
    "\n",
    "            scores = model(x_var)\n",
    "            \n",
    "            loss = loss_fn(scores, y_var)\n",
    "            if (t + 1) % print_every == 0:\n",
    "                print('t = %d, loss = %.4f' % (t + 1, loss.data[0]))\n",
    "\n",
    "            optimizer.zero_grad()\n",
    "            loss.backward()\n",
    "            optimizer.step()\n",
    "\n",
    "def check_accuracy(model, loader):\n",
    "    '''\n",
    "    if loader.dataset.train:\n",
    "        print('Checking accuracy on validation set')\n",
    "    else:\n",
    "        print('Checking accuracy on test set')  \n",
    "    '''\n",
    "    num_correct = 0\n",
    "    num_samples = 0\n",
    "    model.eval() # Put the model in test mode (the opposite of model.train(), essentially)\n",
    "    for t, sample in enumerate(loader):\n",
    "        x_var = Variable(sample['image'].cuda())\n",
    "        y_var = sample['Label'].cuda()\n",
    "        y_var=y_var.cpu()\n",
    "        scores = model(x_var)\n",
    "        _, preds = scores.data.cpu().max(1)\n",
    "        #print(preds)\n",
    "        #print(y_var)\n",
    "        num_correct += (preds.numpy() == y_var.numpy()).sum()\n",
    "        num_samples += preds.size(0)\n",
    "    acc = float(num_correct) / num_samples\n",
    "    print('Got %d / %d correct (%.2f)' % (num_correct, num_samples, 100 * acc))"
   ]
  },
  {
   "cell_type": "markdown",
   "metadata": {},
   "source": [
    "Run on GPU!"
   ]
  },
  {
   "cell_type": "code",
   "execution_count": null,
   "metadata": {
    "collapsed": true
   },
   "outputs": [],
   "source": [
    "torch.cuda.random.manual_seed(12345)\n",
    "\n",
    "fixed_model_gpu.apply(reset) \n",
    "fixed_model_gpu.train() \n",
    "train(fixed_model_gpu, loss_fn, optimizer,image_dataloader_train, num_epochs=1) \n",
    "check_accuracy(fixed_model_gpu, image_dataloader_train)# check accuracy on the training set\n"
   ]
  },
  {
   "cell_type": "markdown",
   "metadata": {},
   "source": [
    "### 3D Convolution on video clips (25 points+10 extra points)\n",
    "3D convolution is for videos, it has one more dimension than 2d convolution. You can find the document for 3D convolution here http://pytorch.org/docs/master/nn.html#torch.nn.Conv3dIn. In our dataset, each clip is a video of 3 frames. Lets classify the each clip rather than each image using 3D convolution.\n",
    "We offer the data loader, the train_3d and check_accuracy"
   ]
  },
  {
   "cell_type": "code",
   "execution_count": 22,
   "metadata": {},
   "outputs": [
    {
     "name": "stdout",
     "output_type": "stream",
     "text": [
      "torch.Size([3, 3, 64, 64])\n",
      "0.0\n",
      "00001\n",
      "torch.Size([3, 3, 64, 64])\n",
      "0.0\n",
      "00002\n",
      "torch.Size([3, 3, 64, 64])\n",
      "0.0\n",
      "00003\n",
      "torch.Size([3, 3, 64, 64])\n",
      "0.0\n",
      "00004\n",
      "torch.Size([3, 3, 64, 64])\n",
      "0.0\n",
      "00005\n",
      "torch.Size([3, 3, 64, 64])\n",
      "0.0\n",
      "00006\n",
      "torch.Size([3, 3, 64, 64])\n",
      "0.0\n",
      "00007\n",
      "torch.Size([3, 3, 64, 64])\n",
      "0.0\n",
      "00008\n",
      "torch.Size([3, 3, 64, 64])\n",
      "0.0\n",
      "00009\n",
      "torch.Size([3, 3, 64, 64])\n",
      "0.0\n",
      "00010\n"
     ]
    }
   ],
   "source": [
    "class ActionClipDataset(Dataset):\n",
    "    \"\"\"Action Landmarks dataset.\"\"\"\n",
    "\n",
    "    def __init__(self,  root_dir,labels=[], transform=None):\n",
    "        \"\"\"\n",
    "        Args:\n",
    "            csv_file (string): Path to the csv file with annotations.\n",
    "            root_dir (string): Directory with all the images.\n",
    "            transform (callable, optional): Optional transform to be applied\n",
    "                on a sample.\n",
    "        \"\"\"\n",
    "        \n",
    "        self.root_dir = root_dir\n",
    "        self.transform = transform\n",
    "        self.length=len(os.listdir(self.root_dir))\n",
    "        self.labels=labels\n",
    "\n",
    "    def __len__(self):\n",
    "        return self.length\n",
    "\n",
    "    def __getitem__(self, idx):\n",
    "        \n",
    "        folder=idx+1\n",
    "        folder=format(folder,'05d')\n",
    "        clip=[]\n",
    "        if len(self.labels)!=0:\n",
    "            Label=self.labels[idx][0]-1\n",
    "        for i in range(3):\n",
    "            imidx=i+1\n",
    "            imgname=str(imidx)+'.jpg'\n",
    "            img_path = os.path.join(self.root_dir,\n",
    "                                    folder,imgname)\n",
    "            image = Image.open(img_path)\n",
    "            image=np.array(image)\n",
    "            clip.append(image)\n",
    "        if self.transform:\n",
    "            clip=np.asarray(clip)\n",
    "            clip=np.transpose(clip, (0,3,1,2))\n",
    "            clip = torch.from_numpy(np.asarray(clip))\n",
    "        if len(self.labels)!=0:\n",
    "            sample={'clip':clip,'Label':Label,'folder':folder}\n",
    "        else:\n",
    "            sample={'clip':clip,'folder':folder}\n",
    "        return sample\n",
    "\n",
    "clip_dataset=ActionClipDataset(root_dir='./data/trainClips/',\\\n",
    "                               labels=label_train,transform=T.ToTensor())#/home/tqvinh/Study/CSE512/cse512-s18/hw2data/trainClips/\n",
    "for i in range(10):\n",
    "    sample=clip_dataset[i]\n",
    "    print(sample['clip'].shape)\n",
    "    print(sample['Label'])\n",
    "    print(sample['folder'])"
   ]
  },
  {
   "cell_type": "code",
   "execution_count": 23,
   "metadata": {},
   "outputs": [
    {
     "name": "stdout",
     "output_type": "stream",
     "text": [
      "(0, torch.Size([4, 3, 3, 64, 64]), ['07581', '05352', '03804', '05857'], tensor([9., 6., 4., 7.], dtype=torch.float64))\n",
      "(1, torch.Size([4, 3, 3, 64, 64]), ['05671', '00418', '06187', '01096'], tensor([7., 0., 7., 1.], dtype=torch.float64))\n",
      "(2, torch.Size([4, 3, 3, 64, 64]), ['03360', '05474', '00758', '04664'], tensor([3., 6., 0., 5.], dtype=torch.float64))\n",
      "(3, torch.Size([4, 3, 3, 64, 64]), ['05260', '00347', '04708', '04490'], tensor([6., 0., 5., 5.], dtype=torch.float64))\n",
      "(4, torch.Size([4, 3, 3, 64, 64]), ['03060', '06416', '06578', '02359'], tensor([3., 7., 8., 2.], dtype=torch.float64))\n",
      "(5, torch.Size([4, 3, 3, 64, 64]), ['05792', '05851', '00529', '04173'], tensor([7., 7., 0., 4.], dtype=torch.float64))\n",
      "(6, torch.Size([4, 3, 3, 64, 64]), ['04267', '05919', '00541', '01197'], tensor([5., 7., 0., 1.], dtype=torch.float64))\n",
      "(7, torch.Size([4, 3, 3, 64, 64]), ['07507', '06897', '02637', '03536'], tensor([9., 8., 2., 4.], dtype=torch.float64))\n",
      "(8, torch.Size([4, 3, 3, 64, 64]), ['00166', '01346', '00191', '01002'], tensor([0., 1., 0., 1.], dtype=torch.float64))\n",
      "(9, torch.Size([4, 3, 3, 64, 64]), ['01813', '00763', '05873', '04424'], tensor([1., 0., 7., 5.], dtype=torch.float64))\n",
      "(10, torch.Size([4, 3, 3, 64, 64]), ['00628', '00760', '03644', '05478'], tensor([0., 0., 4., 6.], dtype=torch.float64))\n",
      "(11, torch.Size([4, 3, 3, 64, 64]), ['07085', '06858', '04974', '01208'], tensor([8., 8., 6., 1.], dtype=torch.float64))\n",
      "(12, torch.Size([4, 3, 3, 64, 64]), ['07559', '07622', '05665', '03671'], tensor([9., 9., 7., 4.], dtype=torch.float64))\n",
      "(13, torch.Size([4, 3, 3, 64, 64]), ['06602', '07697', '05933', '00585'], tensor([8., 9., 7., 0.], dtype=torch.float64))\n",
      "(14, torch.Size([4, 3, 3, 64, 64]), ['02057', '00355', '07675', '03311'], tensor([2., 0., 9., 3.], dtype=torch.float64))\n",
      "(15, torch.Size([4, 3, 3, 64, 64]), ['05712', '07615', '07696', '01532'], tensor([7., 9., 9., 1.], dtype=torch.float64))\n",
      "(16, torch.Size([4, 3, 3, 64, 64]), ['01641', '00818', '02708', '05418'], tensor([1., 0., 3., 6.], dtype=torch.float64))\n",
      "(17, torch.Size([4, 3, 3, 64, 64]), ['00142', '07547', '01115', '05436'], tensor([0., 9., 1., 6.], dtype=torch.float64))\n",
      "(18, torch.Size([4, 3, 3, 64, 64]), ['01735', '00703', '01020', '02463'], tensor([1., 0., 1., 2.], dtype=torch.float64))\n",
      "(19, torch.Size([4, 3, 3, 64, 64]), ['02309', '05878', '06162', '02864'], tensor([2., 7., 7., 3.], dtype=torch.float64))\n",
      "(20, torch.Size([4, 3, 3, 64, 64]), ['00228', '04794', '04895', '00782'], tensor([0., 5., 5., 0.], dtype=torch.float64))\n",
      "(21, torch.Size([4, 3, 3, 64, 64]), ['01040', '01080', '00499', '01523'], tensor([1., 1., 0., 1.], dtype=torch.float64))\n"
     ]
    }
   ],
   "source": [
    "clip_dataloader = DataLoader(clip_dataset, batch_size=4,\n",
    "                        shuffle=True, num_workers=4)\n",
    "\n",
    "\n",
    "for i,sample in enumerate(clip_dataloader):\n",
    "    print(i,sample['clip'].shape,sample['folder'],sample['Label'])\n",
    "    if i>20: \n",
    "        break"
   ]
  },
  {
   "cell_type": "code",
   "execution_count": 75,
   "metadata": {},
   "outputs": [],
   "source": [
    "clip_dataset_train=ActionClipDataset(root_dir='./data/trainClips/',labels=label_train,transform=T.ToTensor())\n",
    "\n",
    "clip_dataloader_train = DataLoader(clip_dataset_train, batch_size=16,\n",
    "                        shuffle=True, num_workers=4)\n",
    "clip_dataset_val=ActionClipDataset(root_dir='./data/valClips/',labels=label_val,transform=T.ToTensor())\n",
    "\n",
    "clip_dataloader_val = DataLoader(clip_dataset_val, batch_size=16,\n",
    "                        shuffle=True, num_workers=4)\n",
    "clip_dataset_test=ActionClipDataset(root_dir='./data/testClips/',labels=[],transform=T.ToTensor())\n",
    "\n",
    "clip_dataloader_test = DataLoader(clip_dataset_test, batch_size=16,\n",
    "                        shuffle=False, num_workers=4)"
   ]
  },
  {
   "cell_type": "markdown",
   "metadata": {},
   "source": [
    "Write the Flatten for 3d covolution feature maps."
   ]
  },
  {
   "cell_type": "code",
   "execution_count": 67,
   "metadata": {},
   "outputs": [],
   "source": [
    "class Flatten3d(nn.Module):\n",
    "    def forward(self, x):\n",
    "        ###############6th TODO (5 points)###################\n",
    "        N, C, D, H, W = x.size() \n",
    "        return x.view(N, -1)"
   ]
  },
  {
   "cell_type": "markdown",
   "metadata": {},
   "source": [
    "Design a network using 3D convolution on videos for video classification."
   ]
  },
  {
   "cell_type": "code",
   "execution_count": 76,
   "metadata": {},
   "outputs": [
    {
     "data": {
      "text/plain": [
       "True"
      ]
     },
     "execution_count": 76,
     "metadata": {},
     "output_type": "execute_result"
    }
   ],
   "source": [
    "### not the best model ; best model mentioned at the end of the notebook ; this was the last experiment i tried\n",
    "\n",
    "\n",
    "fixed_model_3d = nn.Sequential( # You fill this in!\n",
    "    ###############7th TODO (20 points)#########################\n",
    "    nn.Conv3d(3, 8, kernel_size=(1,3,3), stride=1),\n",
    "    nn.BatchNorm3d(8),\n",
    "    nn.ReLU(inplace=True),\n",
    "    nn.MaxPool3d(kernel_size=(3, 2, 2), stride=(1,2,2), padding=1),\n",
    "    \n",
    "    nn.Conv3d(8, 16, kernel_size=(1,3,3), stride=1),\n",
    "    nn.BatchNorm3d(16),\n",
    "    nn.ReLU(inplace=True),\n",
    "    nn.MaxPool3d(kernel_size=(3, 2, 2), stride=(1,2,2), padding=1),\n",
    "\n",
    "    nn.Conv3d(16, 32, kernel_size=(1,3,3), stride=1),\n",
    "    nn.BatchNorm3d(32),\n",
    "    nn.ReLU(inplace=True),\n",
    "    nn.MaxPool3d(kernel_size=(3, 2, 2), stride=(1,2,2), padding=1),       \n",
    "\n",
    "    nn.Conv3d(32, 64, kernel_size=(1,3,3), stride=1),\n",
    "    nn.BatchNorm3d(64),\n",
    "    nn.ReLU(inplace=True),\n",
    "    nn.MaxPool3d(kernel_size=(3, 2, 2), stride=(1,2,2), padding=1),  \n",
    "    nn.Dropout(0.5),\n",
    "\n",
    "    nn.Conv3d(64, 64, kernel_size=(1,3,3), stride=1),\n",
    "    nn.BatchNorm3d(64),\n",
    "    nn.ReLU(inplace=True),\n",
    "    nn.MaxPool3d(kernel_size=(3, 2, 2), stride=(1,2,2), padding=1),\n",
    "    Flatten3d(),\n",
    "    nn.Linear(768,64),\n",
    "    nn.ReLU(inplace=True),\n",
    "    nn.Dropout(0.5),\n",
    "    nn.Linear(64,10)\n",
    ")\n",
    "\n",
    "fixed_model_3d = fixed_model_3d.type(dtype)\n",
    "x = torch.randn(32,3, 3, 64, 64).type(dtype)\n",
    "x_var = Variable(x).type(dtype) # Construct a PyTorch Variable out of your input data\n",
    "ans = fixed_model_3d(x_var) \n",
    "np.array_equal(np.array(ans.size()), np.array([32, 10]))\n"
   ]
  },
  {
   "cell_type": "markdown",
   "metadata": {},
   "source": [
    "### Describe what you did (5 points)\n",
    "\n",
    "In the cell below you should write an explanation of what you did, any additional features that you implemented, and any visualizations or graphs that you make in the process of training and evaluating your network."
   ]
  },
  {
   "cell_type": "markdown",
   "metadata": {},
   "source": [
    "### 8th TODO Tell us here:\n",
    "#### 1. kernel sizes : \n",
    "Smaller kernel sizes work better.\n",
    "#### 2.  strides: \n",
    "Smaller stride works better.\n",
    "#### 3. Convolution with and without padding\n",
    "#### 4. Max pooling :\n",
    "Max pooling works better than average pooling.\n",
    "#### 5. Batch normalization \n",
    "\n"
   ]
  },
  {
   "cell_type": "code",
   "execution_count": 77,
   "metadata": {},
   "outputs": [
    {
     "name": "stdout",
     "output_type": "stream",
     "text": [
      "Sequential(\n",
      "  (0): Conv3d(3, 8, kernel_size=(1, 3, 3), stride=(1, 1, 1))\n",
      "  (1): BatchNorm3d(8, eps=1e-05, momentum=0.1, affine=True, track_running_stats=True)\n",
      "  (2): ReLU(inplace)\n",
      "  (3): MaxPool3d(kernel_size=(3, 2, 2), stride=(1, 2, 2), padding=1, dilation=1, ceil_mode=False)\n",
      "  (4): Conv3d(8, 16, kernel_size=(1, 3, 3), stride=(1, 1, 1))\n",
      "  (5): BatchNorm3d(16, eps=1e-05, momentum=0.1, affine=True, track_running_stats=True)\n",
      "  (6): ReLU(inplace)\n",
      "  (7): MaxPool3d(kernel_size=(3, 2, 2), stride=(1, 2, 2), padding=1, dilation=1, ceil_mode=False)\n",
      "  (8): Conv3d(16, 32, kernel_size=(1, 3, 3), stride=(1, 1, 1))\n",
      "  (9): BatchNorm3d(32, eps=1e-05, momentum=0.1, affine=True, track_running_stats=True)\n",
      "  (10): ReLU(inplace)\n",
      "  (11): MaxPool3d(kernel_size=(3, 2, 2), stride=(1, 2, 2), padding=1, dilation=1, ceil_mode=False)\n",
      "  (12): Conv3d(32, 64, kernel_size=(1, 3, 3), stride=(1, 1, 1))\n",
      "  (13): BatchNorm3d(64, eps=1e-05, momentum=0.1, affine=True, track_running_stats=True)\n",
      "  (14): ReLU(inplace)\n",
      "  (15): MaxPool3d(kernel_size=(3, 2, 2), stride=(1, 2, 2), padding=1, dilation=1, ceil_mode=False)\n",
      "  (16): Dropout(p=0.5)\n",
      "  (17): Conv3d(64, 64, kernel_size=(1, 3, 3), stride=(1, 1, 1))\n",
      "  (18): BatchNorm3d(64, eps=1e-05, momentum=0.1, affine=True, track_running_stats=True)\n",
      "  (19): ReLU(inplace)\n",
      "  (20): MaxPool3d(kernel_size=(3, 2, 2), stride=(1, 2, 2), padding=1, dilation=1, ceil_mode=False)\n",
      "  (21): Flatten3d()\n",
      "  (22): Linear(in_features=768, out_features=64, bias=True)\n",
      "  (23): ReLU(inplace)\n",
      "  (24): Dropout(p=0.5)\n",
      "  (25): Linear(in_features=64, out_features=10, bias=True)\n",
      ")\n",
      "----------------------------------------------------------------\n",
      "        Layer (type)               Output Shape         Param #\n",
      "================================================================\n",
      "            Conv3d-1         [-1, 8, 3, 62, 62]             224\n",
      "       BatchNorm3d-2         [-1, 8, 3, 62, 62]              16\n",
      "              ReLU-3         [-1, 8, 3, 62, 62]               0\n",
      "         MaxPool3d-4         [-1, 8, 3, 32, 32]               0\n",
      "            Conv3d-5        [-1, 16, 3, 30, 30]           1,168\n",
      "       BatchNorm3d-6        [-1, 16, 3, 30, 30]              32\n",
      "              ReLU-7        [-1, 16, 3, 30, 30]               0\n",
      "         MaxPool3d-8        [-1, 16, 3, 16, 16]               0\n",
      "            Conv3d-9        [-1, 32, 3, 14, 14]           4,640\n",
      "      BatchNorm3d-10        [-1, 32, 3, 14, 14]              64\n",
      "             ReLU-11        [-1, 32, 3, 14, 14]               0\n",
      "        MaxPool3d-12          [-1, 32, 3, 8, 8]               0\n",
      "           Conv3d-13          [-1, 64, 3, 6, 6]          18,496\n",
      "      BatchNorm3d-14          [-1, 64, 3, 6, 6]             128\n",
      "             ReLU-15          [-1, 64, 3, 6, 6]               0\n",
      "        MaxPool3d-16          [-1, 64, 3, 4, 4]               0\n",
      "          Dropout-17          [-1, 64, 3, 4, 4]               0\n",
      "           Conv3d-18          [-1, 64, 3, 2, 2]          36,928\n",
      "      BatchNorm3d-19          [-1, 64, 3, 2, 2]             128\n",
      "             ReLU-20          [-1, 64, 3, 2, 2]               0\n",
      "        MaxPool3d-21          [-1, 64, 3, 2, 2]               0\n",
      "        Flatten3d-22                  [-1, 768]               0\n",
      "           Linear-23                   [-1, 64]          49,216\n",
      "             ReLU-24                   [-1, 64]               0\n",
      "          Dropout-25                   [-1, 64]               0\n",
      "           Linear-26                   [-1, 10]             650\n",
      "================================================================\n",
      "Total params: 111,690\n",
      "Trainable params: 111,690\n",
      "Non-trainable params: 0\n",
      "----------------------------------------------------------------\n",
      "Input size (MB): 0.14\n",
      "Forward/backward pass size (MB): 4.10\n",
      "Params size (MB): 0.43\n",
      "Estimated Total Size (MB): 4.66\n",
      "----------------------------------------------------------------\n",
      "None\n"
     ]
    }
   ],
   "source": [
    "print fixed_model_3d\n",
    "# pip install torchsummary\n",
    "from torchsummary import summary\n",
    "print summary(fixed_model_3d, (3, 3, 64, 64))"
   ]
  },
  {
   "cell_type": "code",
   "execution_count": 78,
   "metadata": {},
   "outputs": [],
   "source": [
    "loss_fn = nn.CrossEntropyLoss().type(dtype)\n",
    "optimizer = optim.Adam(fixed_model_3d.parameters())\n"
   ]
  },
  {
   "cell_type": "code",
   "execution_count": 79,
   "metadata": {},
   "outputs": [],
   "source": [
    "def train_3d(model, loss_fn, optimizer,dataloader,num_epochs = 1):\n",
    "    for epoch in range(num_epochs):\n",
    "        print('Starting epoch %d / %d' % (epoch + 1, num_epochs))\n",
    "        model.train()\n",
    "        for t, sample in enumerate(dataloader):\n",
    "            x_var = Variable(sample['clip'].type(dtype))\n",
    "            y_var = Variable(sample['Label'].type(dtype).long())\n",
    "\n",
    "            scores = model(x_var)\n",
    "            \n",
    "            loss = loss_fn(scores, y_var)\n",
    "            if (t + 1) % print_every == 0:\n",
    "                print('t = %d, loss = %.4f' % (t + 1, loss.data[0]))\n",
    "\n",
    "            optimizer.zero_grad()\n",
    "            loss.backward()\n",
    "            optimizer.step()\n",
    "\n",
    "def check_accuracy_3d(model, loader):\n",
    "    '''\n",
    "    if loader.dataset.train:\n",
    "        print('Checking accuracy on validation set')\n",
    "    else:\n",
    "        print('Checking accuracy on test set')  \n",
    "    '''\n",
    "    num_correct = 0\n",
    "    num_samples = 0\n",
    "    model.eval() # Put the model in test mode (the opposite of model.train(), essentially)\n",
    "    for t, sample in enumerate(loader):\n",
    "        x_var = Variable(sample['clip'].type(dtype))\n",
    "        y_var = sample['Label'].type(dtype)\n",
    "        y_var=y_var.cpu()\n",
    "        scores = model(x_var)\n",
    "        _, preds = scores.data.cpu().max(1)\n",
    "        #print(preds)\n",
    "        #print(y_var)\n",
    "        num_correct += (preds.numpy() == y_var.numpy()).sum()\n",
    "        num_samples += preds.size(0)\n",
    "    acc = float(num_correct) / num_samples\n",
    "    print('Got %d / %d correct (%.2f)' % (num_correct, num_samples, 100 * acc))"
   ]
  },
  {
   "cell_type": "code",
   "execution_count": 80,
   "metadata": {},
   "outputs": [
    {
     "name": "stdout",
     "output_type": "stream",
     "text": [
      "Starting epoch 1 / 25\n"
     ]
    },
    {
     "name": "stderr",
     "output_type": "stream",
     "text": [
      "/usr/local/lib/python2.7/dist-packages/ipykernel_launcher.py:13: UserWarning: invalid index of a 0-dim tensor. This will be an error in PyTorch 0.5. Use tensor.item() to convert a 0-dim tensor to a Python number\n",
      "  del sys.path[0]\n"
     ]
    },
    {
     "name": "stdout",
     "output_type": "stream",
     "text": [
      "t = 100, loss = 1.6114\n",
      "t = 200, loss = 1.8699\n",
      "t = 300, loss = 1.2448\n",
      "t = 400, loss = 1.5927\n",
      "Starting epoch 2 / 25\n",
      "t = 100, loss = 1.0678\n",
      "t = 200, loss = 0.9919\n",
      "t = 300, loss = 0.7828\n",
      "t = 400, loss = 1.2686\n",
      "Starting epoch 3 / 25\n",
      "t = 100, loss = 1.1394\n",
      "t = 200, loss = 0.7921\n",
      "t = 300, loss = 0.6804\n",
      "t = 400, loss = 0.9715\n",
      "Starting epoch 4 / 25\n",
      "t = 100, loss = 0.6548\n",
      "t = 200, loss = 0.6611\n",
      "t = 300, loss = 1.1438\n",
      "t = 400, loss = 0.5637\n",
      "Starting epoch 5 / 25\n",
      "t = 100, loss = 0.2799\n",
      "t = 200, loss = 0.4259\n",
      "t = 300, loss = 0.4275\n",
      "t = 400, loss = 0.2818\n",
      "Starting epoch 6 / 25\n",
      "t = 100, loss = 0.3485\n",
      "t = 200, loss = 0.9103\n",
      "t = 300, loss = 0.5154\n",
      "t = 400, loss = 0.3972\n",
      "Starting epoch 7 / 25\n",
      "t = 100, loss = 0.2575\n",
      "t = 200, loss = 0.3915\n",
      "t = 300, loss = 0.7013\n",
      "t = 400, loss = 0.6936\n",
      "Starting epoch 8 / 25\n",
      "t = 100, loss = 0.1945\n",
      "t = 200, loss = 0.8446\n",
      "t = 300, loss = 0.3518\n",
      "t = 400, loss = 0.7200\n",
      "Starting epoch 9 / 25\n",
      "t = 100, loss = 0.4520\n",
      "t = 200, loss = 0.4028\n",
      "t = 300, loss = 0.1995\n",
      "t = 400, loss = 0.1831\n",
      "Starting epoch 10 / 25\n",
      "t = 100, loss = 0.3902\n",
      "t = 200, loss = 0.0874\n",
      "t = 300, loss = 0.1301\n",
      "t = 400, loss = 0.6121\n",
      "Starting epoch 11 / 25\n",
      "t = 100, loss = 0.1757\n",
      "t = 200, loss = 0.1599\n",
      "t = 300, loss = 0.1212\n",
      "t = 400, loss = 0.2735\n",
      "Starting epoch 12 / 25\n",
      "t = 100, loss = 0.1539\n",
      "t = 200, loss = 0.3011\n",
      "t = 300, loss = 0.0822\n",
      "t = 400, loss = 0.6629\n",
      "Starting epoch 13 / 25\n",
      "t = 100, loss = 0.2953\n",
      "t = 200, loss = 0.1004\n",
      "t = 300, loss = 0.5125\n",
      "t = 400, loss = 0.0824\n",
      "Starting epoch 14 / 25\n",
      "t = 100, loss = 0.1749\n",
      "t = 200, loss = 0.0476\n",
      "t = 300, loss = 0.1891\n",
      "t = 400, loss = 0.2205\n",
      "Starting epoch 15 / 25\n",
      "t = 100, loss = 0.1777\n",
      "t = 200, loss = 0.1161\n",
      "t = 300, loss = 0.1029\n",
      "t = 400, loss = 0.2346\n",
      "Starting epoch 16 / 25\n",
      "t = 100, loss = 0.0354\n",
      "t = 200, loss = 0.1214\n",
      "t = 300, loss = 0.0319\n",
      "t = 400, loss = 0.0988\n",
      "Starting epoch 17 / 25\n",
      "t = 100, loss = 0.0656\n",
      "t = 200, loss = 0.4768\n",
      "t = 300, loss = 0.0409\n",
      "t = 400, loss = 0.3104\n",
      "Starting epoch 18 / 25\n",
      "t = 100, loss = 0.3592\n",
      "t = 200, loss = 0.2606\n",
      "t = 300, loss = 0.3044\n",
      "t = 400, loss = 0.6479\n",
      "Starting epoch 19 / 25\n",
      "t = 100, loss = 0.0572\n",
      "t = 200, loss = 0.1253\n",
      "t = 300, loss = 0.0292\n",
      "t = 400, loss = 0.3460\n",
      "Starting epoch 20 / 25\n",
      "t = 100, loss = 0.0883\n",
      "t = 200, loss = 0.0680\n",
      "t = 300, loss = 0.0279\n",
      "t = 400, loss = 0.0290\n",
      "Starting epoch 21 / 25\n",
      "t = 100, loss = 0.3890\n",
      "t = 200, loss = 0.1528\n",
      "t = 300, loss = 0.1271\n",
      "t = 400, loss = 0.0177\n",
      "Starting epoch 22 / 25\n",
      "t = 100, loss = 0.3711\n",
      "t = 200, loss = 0.0984\n",
      "t = 300, loss = 0.1947\n",
      "t = 400, loss = 0.0825\n",
      "Starting epoch 23 / 25\n",
      "t = 100, loss = 0.0391\n",
      "t = 200, loss = 0.0532\n",
      "t = 300, loss = 0.0121\n",
      "t = 400, loss = 0.0049\n",
      "Starting epoch 24 / 25\n",
      "t = 100, loss = 0.1100\n",
      "t = 200, loss = 0.0116\n",
      "t = 300, loss = 0.0056\n",
      "t = 400, loss = 0.0933\n",
      "Starting epoch 25 / 25\n",
      "t = 100, loss = 0.0442\n",
      "t = 200, loss = 0.1374\n",
      "t = 300, loss = 0.1068\n",
      "t = 400, loss = 0.0532\n",
      "Got 1497 / 2230 correct (67.13)\n"
     ]
    }
   ],
   "source": [
    "torch.cuda.random.manual_seed(1332)\n",
    "fixed_model_3d.apply(reset) \n",
    "fixed_model_3d.train() \n",
    "train_3d(fixed_model_3d, loss_fn, optimizer,clip_dataloader_train, num_epochs=25) \n",
    "fixed_model_3d.eval() \n",
    "check_accuracy_3d(fixed_model_3d, clip_dataloader_val)"
   ]
  },
  {
   "cell_type": "markdown",
   "metadata": {
    "collapsed": true
   },
   "source": [
    "Test your 3d convolution model on the validation set. You don't need to submit the result of this part to kaggle.  "
   ]
  },
  {
   "cell_type": "markdown",
   "metadata": {
    "collapsed": true
   },
   "source": [
    "Test your model on the test set, predict_on_test_3d() will generate a file named 'results_3d.csv'. Please submit the csv file to kaggle https://www.kaggle.com/c/cse512springhw3video\n",
    "The highest 3 entries get extra 10 points.\n"
   ]
  },
  {
   "cell_type": "code",
   "execution_count": 81,
   "metadata": {},
   "outputs": [
    {
     "name": "stdout",
     "output_type": "stream",
     "text": [
      "3270\n"
     ]
    }
   ],
   "source": [
    "def predict_on_test_3d(model, loader):\n",
    "    '''\n",
    "    if loader.dataset.train:\n",
    "        print('Checking accuracy on validation set')\n",
    "    else:\n",
    "        print('Checking accuracy on test set')  \n",
    "    '''\n",
    "    num_correct = 0\n",
    "    num_samples = 0\n",
    "    model.eval() # Put the model in test mode (the opposite of model.train(), essentially)\n",
    "    results=open('results_3d.csv','w')\n",
    "    count=0\n",
    "    results.write('Id'+','+'Class'+'\\n')\n",
    "    for t, sample in enumerate(loader):\n",
    "        x_var = Variable(sample['clip'].type(dtype))\n",
    "        scores = model(x_var)\n",
    "        _, preds = scores.data.max(1)\n",
    "        for i in range(len(preds)):\n",
    "            results.write(str(count)+','+str(preds[i])+'\\n')\n",
    "            count+=1\n",
    "    results.close()\n",
    "    return count\n",
    "    \n",
    "count=predict_on_test_3d(fixed_model_3d, clip_dataloader_test)\n",
    "print(count)"
   ]
  },
  {
   "cell_type": "markdown",
   "metadata": {
    "collapsed": true
   },
   "source": [
    "## Images - Other Attempts \n",
    "\n",
    "### 1. On the lines of VGG - Since the image size is 64, and we have a limited dataset, a bigger network overfitted very badly. Hence, I chose to decrease the number of hidden layers and decrease the number of hidden units in the hidden layers\n",
    "```\n",
    "nn.Conv2d(3, 64, kernel_size=3, stride=1, padding=1),\n",
    "nn.ReLU(inplace=True),\n",
    "nn.Conv2d(64, 64, kernel_size=3, stride=1, padding=1),\n",
    "nn.ReLU(inplace=True),\n",
    "nn.MaxPool2d(2, stride = 2),\n",
    "nn.Conv2d(64, 128, kernel_size=3, stride=1, padding=1),\n",
    "nn.ReLU(inplace=True),\n",
    "nn.Conv2d(128, 128, kernel_size=3, stride=1, padding=1),\n",
    "nn.ReLU(inplace=True),\n",
    "nn.MaxPool2d(2, stride = 2),\n",
    "nn.Conv2d(128, 256, kernel_size=3, stride=1, padding=1),\n",
    "nn.ReLU(inplace=True),\n",
    "nn.Conv2d(256, 256, kernel_size=3, stride=1, padding=1),\n",
    "nn.ReLU(inplace=True),\n",
    "nn.Conv2d(256, 256, kernel_size=3, stride=1, padding=1),\n",
    "nn.ReLU(inplace=True),\n",
    "nn.MaxPool2d(2, stride = 2),\n",
    "nn.Conv2d(256, 512, kernel_size=3, stride=1, padding=1),\n",
    "nn.ReLU(inplace=True),\n",
    "nn.Conv2d(512, 512, kernel_size=3, stride=1, padding=1),\n",
    "nn.ReLU(inplace=True),\n",
    "nn.Conv2d(512, 512, kernel_size=3, stride=1, padding=1),\n",
    "nn.ReLU(inplace=True),\n",
    "nn.MaxPool2d(2, stride = 2),\n",
    "Flatten(),\n",
    "nn.Linear(8192, 1024),\n",
    "nn.Linear(1024, 10),\n",
    "nn.LogSoftmax()\n",
    "```\n",
    "\n",
    "### 2. Decreasing just the number of hidden units, still resulted in overfitting. \n",
    "```\n",
    "    nn.Conv2d(3,32, kernel_size=5, stride=1, padding=2),\n",
    "    nn.ReLU(inplace=True),\n",
    "    nn.Conv2d(32,32, kernel_size=5, stride=1, padding=2),\n",
    "    nn.ReLU(inplace=True),\n",
    "    nn.MaxPool2d(kernel_size=2, stride=2, padding=0),\n",
    "    nn.Conv2d(32,64, kernel_size=3, stride=1, padding=2),\n",
    "    nn.ReLU(inplace=True),\n",
    "    nn.Conv2d(64,64, kernel_size=3, stride=1, padding=2),\n",
    "    nn.ReLU(inplace=True),\n",
    "    nn.MaxPool2d(kernel_size=2, stride=2, padding=0),\n",
    "    nn.Conv2d(64,64, kernel_size=3, stride=1, padding=2),\n",
    "    nn.ReLU(inplace=True),\n",
    "    nn.Conv2d(64,64, kernel_size=3, stride=1, padding=2),\n",
    "    nn.ReLU(inplace=True),\n",
    "    nn.MaxPool2d(kernel_size=2, stride=2, padding=0),\n",
    "    Flatten(),\n",
    "    nn.Linear(7744,1024),\n",
    "    nn.Dropout(0.2),\n",
    "    nn.Linear(1024,10)\n",
    "```\n",
    "\n",
    "\n",
    "\n",
    "### 3. Since there are too many parameters for the model to learn, and limited dataset, the model overfitted on trainingset giving an accuracy of 95.35% on training set. Dropout or batchnorm didnot help overcome overfitting. Hence, I chose to decrease the number of hidden units.\n",
    "```\n",
    "fixed_model_base2 = nn.Sequential( \n",
    "    nn.Conv2d(3, 128, kernel_size=10, stride=3, padding=0),\n",
    "    nn.ReLU(inplace=True),\n",
    "    nn.MaxPool2d(3, stride=1),\n",
    "    nn.BatchNorm2d(128),\n",
    "    nn.Dropout2d(0.5),\n",
    "    nn.Conv2d(128, 64, kernel_size=5, stride=2, padding=0),\n",
    "    nn.ReLU(inplace=True),\n",
    "    nn.MaxPool2d(3, stride = 1),\n",
    "    nn.BatchNorm2d(64),\n",
    "    nn.Dropout2d(0.5),\n",
    "    nn.Conv2d(64, 50, kernel_size=3, stride=1, padding=0),\n",
    "    nn.ReLU(inplace=True),\n",
    "    nn.MaxPool2d(2, stride=1),\n",
    "    nn.BatchNorm2d(50),\n",
    "    Flatten(),\n",
    "    nn.Linear(200, 100),\n",
    "    nn.Linear(100, 10),\n",
    "    nn.LogSoftmax()\n",
    ")\n",
    "fixed_model2 = fixed_model_base2.type(dtype)\n",
    "optimizer = torch.optim.RMSprop(fixed_model_base2.parameters(), lr = 0.0001)\n",
    "loss_fn = nn.CrossEntropyLoss()\n",
    "torch.random.manual_seed(54321)\n",
    "fixed_model2.cpu()\n",
    "fixed_model2.apply(reset) \n",
    "fixed_model2.train() \n",
    "train(fixed_model2, loss_fn, optimizer,image_dataloader_train, num_epochs=3) \n",
    "check_accuracy(fixed_model2, image_dataloader_train)\n",
    "```\n",
    "\n",
    "\n",
    "## Videos - Best Attempt\n",
    "### 1.  Kaggle Score - 0.66207\n",
    "```\n",
    "fixed_model_3d = nn.Sequential( # You fill this in!\n",
    "    ###############7th TODO (20 points)#########################\n",
    "    nn.Conv3d(3, 32, kernel_size=(1,3,3), stride=1),\n",
    "    nn.BatchNorm3d(32),\n",
    "    nn.ReLU(inplace=True),\n",
    "    nn.MaxPool3d(kernel_size=(1,2,2), stride=(1,2,2)),\n",
    "    nn.Conv3d(32, 16, kernel_size=(1,3,3), stride=1),\n",
    "    nn.BatchNorm3d(16),\n",
    "    nn.ReLU(inplace=True),\n",
    "    nn.MaxPool3d(kernel_size=(1,2,2), stride=(1,2,2)),\n",
    "    Flatten3d(),\n",
    "    nn.Dropout(0.5),\n",
    "    nn.ReLU(inplace=True),\n",
    "    nn.Linear(9408,10)\n",
    "        \n",
    ")\n",
    "\n",
    "fixed_model_3d = fixed_model_3d.type(dtype)\n",
    "x = torch.randn(32,3, 3, 64, 64).type(dtype)\n",
    "x_var = Variable(x).type(dtype) # Construct a PyTorch Variable out of your input data\n",
    "ans = fixed_model_3d(x_var) \n",
    "np.array_equal(np.array(ans.size()), np.array([32, 10]))\n",
    "loss_fn = nn.CrossEntropyLoss().type(dtype)\n",
    "\n",
    "optimizer = optim.RMSprop(fixed_model_3d.parameters(), lr=1e-4)\n",
    "torch.cuda.random.manual_seed(12345)\n",
    "fixed_model_3d.apply(reset) \n",
    "fixed_model_3d.train() \n",
    "train_3d(fixed_model_3d, loss_fn, optimizer,clip_dataloader_train, num_epochs=12) \n",
    "fixed_model_3d.eval() \n",
    "check_accuracy_3d(fixed_model_3d, clip_dataloader_val)\n",
    "\n",
    "t = 100, loss = 1.0798\n",
    "t = 200, loss = 1.0568\n",
    "t = 300, loss = 1.2343\n",
    "t = 400, loss = 0.7497\n",
    "Starting epoch 2 / 12\n",
    "t = 100, loss = 0.5015\n",
    "t = 200, loss = 0.9561\n",
    "t = 300, loss = 0.4418\n",
    "t = 400, loss = 0.2362\n",
    "Starting epoch 3 / 12\n",
    "t = 100, loss = 0.3162\n",
    "t = 200, loss = 0.4173\n",
    "t = 300, loss = 0.4172\n",
    "t = 400, loss = 0.3901\n",
    "Starting epoch 4 / 12\n",
    "t = 100, loss = 0.1592\n",
    "t = 200, loss = 0.0814\n",
    "t = 300, loss = 0.2312\n",
    "t = 400, loss = 0.2133\n",
    "Starting epoch 5 / 12\n",
    "t = 100, loss = 0.0910\n",
    "t = 200, loss = 0.1133\n",
    "t = 300, loss = 0.1800\n",
    "t = 400, loss = 0.1902\n",
    "Starting epoch 6 / 12\n",
    "t = 100, loss = 0.1297\n",
    "t = 200, loss = 0.0796\n",
    "t = 300, loss = 0.1849\n",
    "t = 400, loss = 0.2262\n",
    "Starting epoch 7 / 12\n",
    "t = 100, loss = 0.1923\n",
    "t = 200, loss = 0.0568\n",
    "t = 300, loss = 0.0981\n",
    "t = 400, loss = 0.1433\n",
    "Starting epoch 8 / 12\n",
    "t = 100, loss = 0.2054\n",
    "t = 200, loss = 0.0542\n",
    "t = 300, loss = 0.0111\n",
    "t = 400, loss = 0.0210\n",
    "Starting epoch 9 / 12\n",
    "t = 100, loss = 0.1155\n",
    "t = 200, loss = 0.0603\n",
    "t = 300, loss = 0.0813\n",
    "t = 400, loss = 0.0884\n",
    "Starting epoch 10 / 12\n",
    "t = 100, loss = 0.0473\n",
    "t = 200, loss = 0.0115\n",
    "t = 300, loss = 0.0281\n",
    "t = 400, loss = 0.1106\n",
    "Starting epoch 11 / 12\n",
    "t = 100, loss = 0.1383\n",
    "t = 200, loss = 0.1403\n",
    "t = 300, loss = 0.0517\n",
    "t = 400, loss = 0.0847\n",
    "Starting epoch 12 / 12\n",
    "t = 100, loss = 0.0265\n",
    "t = 200, loss = 0.0155\n",
    "t = 300, loss = 0.0134\n",
    "t = 400, loss = 0.1849\n",
    "Got 1530 / 2230 correct (68.61)\n",
    "```"
   ]
  },
  {
   "cell_type": "code",
   "execution_count": 3,
   "metadata": {},
   "outputs": [
    {
     "name": "stdout",
     "output_type": "stream",
     "text": [
      "q1_model1(\n",
      "  (conv1): Conv2d(1, 16, kernel_size=(5, 5), stride=(2, 2))\n",
      "  (bn1): BatchNorm2d(16, eps=1e-05, momentum=0.1, affine=True, track_running_stats=True)\n",
      "  (relu1): ReLU(inplace)\n",
      "  (pool1): MaxPool2d(kernel_size=2, stride=2, padding=0, dilation=1, ceil_mode=False)\n",
      "  (conv2): Conv2d(16, 8, kernel_size=(3, 3), stride=(1, 1))\n",
      "  (bn2): BatchNorm2d(8, eps=1e-05, momentum=0.1, affine=True, track_running_stats=True)\n",
      "  (relu2): ReLU(inplace)\n",
      "  (pool2): MaxPool2d(kernel_size=2, stride=2, padding=0, dilation=1, ceil_mode=False)\n",
      "  (dropout1): Dropout(p=0.5)\n",
      "  (fc1): Linear(in_features=288, out_features=15, bias=True)\n",
      ")\n"
     ]
    }
   ],
   "source": [
    "class q1_model1(nn.Module):\n",
    "\n",
    "    def __init__(self):\n",
    "        super(q1_model1, self).__init__()\n",
    "        self.conv1 = nn.Conv2d(1, 16, kernel_size=5, stride=2) # 64x64x1 -> 30x30x16\n",
    "        self.bn1 = nn.BatchNorm2d(16)\n",
    "        self.relu1 = nn.ReLU(inplace=True) \n",
    "        self.pool1 = nn.MaxPool2d(kernel_size=2 , stride=2) # 30x30x16 -> 15x15x16\n",
    "        #self.dropout1 = nn.Dropout(p=0.5)\n",
    "        \n",
    "        self.conv2 = nn.Conv2d(16, 8, kernel_size=3, stride=1) # 15x15x16 -> 13x13x8\n",
    "        self.bn2 = nn.BatchNorm2d(8)\n",
    "        self.relu2 = nn.ReLU(inplace=True) \n",
    "        self.pool2 = nn.MaxPool2d(kernel_size=2 , stride=2) # 13x13x8 -> 6x6x8\n",
    "        self.dropout1 = nn.Dropout(p=0.5)\n",
    "        self.fc1 = nn.Linear(6*6*8, 15) \n",
    "\n",
    "    def forward(self, x):\n",
    "        x = self.conv1(x)\n",
    "        x = self.bn1(x)\n",
    "        x = self.relu1(x)\n",
    "        x = self.pool1(x)\n",
    "        \n",
    "        x = self.conv2(x)\n",
    "        x = self.bn2(x)\n",
    "        x = self.relu2(x)\n",
    "        x = self.pool2(x)\n",
    "        x = self.flatten(x)\n",
    "        x = self.dropout1(x) \n",
    "        x = self.fc1(x)\n",
    "        return x\n",
    "\n",
    "    def flatten(self, x):\n",
    "        N, C, H, W = x.size()\n",
    "        return x.view(N, -1)\n",
    "\n",
    "model1 = q1_model1()\n",
    "print model1"
   ]
  },
  {
   "cell_type": "code",
   "execution_count": 4,
   "metadata": {},
   "outputs": [
    {
     "name": "stdout",
     "output_type": "stream",
     "text": [
      "----------------------------------------------------------------\n",
      "        Layer (type)               Output Shape         Param #\n",
      "================================================================\n",
      "            Conv2d-1           [-1, 16, 30, 30]             416\n",
      "       BatchNorm2d-2           [-1, 16, 30, 30]              32\n",
      "              ReLU-3           [-1, 16, 30, 30]               0\n",
      "         MaxPool2d-4           [-1, 16, 15, 15]               0\n",
      "            Conv2d-5            [-1, 8, 13, 13]           1,160\n",
      "       BatchNorm2d-6            [-1, 8, 13, 13]              16\n",
      "              ReLU-7            [-1, 8, 13, 13]               0\n",
      "         MaxPool2d-8              [-1, 8, 6, 6]               0\n",
      "           Dropout-9                  [-1, 288]               0\n",
      "           Linear-10                   [-1, 15]           4,335\n",
      "================================================================\n",
      "Total params: 5,959\n",
      "Trainable params: 5,959\n",
      "Non-trainable params: 0\n",
      "----------------------------------------------------------------\n",
      "Input size (MB): 0.02\n",
      "Forward/backward pass size (MB): 0.39\n",
      "Params size (MB): 0.02\n",
      "Estimated Total Size (MB): 0.43\n",
      "----------------------------------------------------------------\n"
     ]
    }
   ],
   "source": [
    "summary(model1, (1,64,64))"
   ]
  },
  {
   "cell_type": "code",
   "execution_count": null,
   "metadata": {},
   "outputs": [],
   "source": []
  }
 ],
 "metadata": {
  "kernelspec": {
   "display_name": "Python 2",
   "language": "python",
   "name": "python2"
  },
  "language_info": {
   "codemirror_mode": {
    "name": "ipython",
    "version": 2
   },
   "file_extension": ".py",
   "mimetype": "text/x-python",
   "name": "python",
   "nbconvert_exporter": "python",
   "pygments_lexer": "ipython2",
   "version": "2.7.12"
  }
 },
 "nbformat": 4,
 "nbformat_minor": 1
}
